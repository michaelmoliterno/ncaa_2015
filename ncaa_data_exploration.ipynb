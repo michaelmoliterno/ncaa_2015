{
 "metadata": {
  "name": "",
  "signature": "sha256:9e25536a95150d2725f69c6715bd5e0686224c9ba2922f1230a48ff438134543"
 },
 "nbformat": 3,
 "nbformat_minor": 0,
 "worksheets": [
  {
   "cells": [
    {
     "cell_type": "code",
     "collapsed": false,
     "input": [
      "import pandas as pd\n",
      "import numpy as np\n",
      "import pprint\n",
      "from pandasql import sqldf\n",
      "import pickle\n",
      "\n",
      "import statsmodels.formula.api as smf\n",
      "\n",
      "\n",
      "import matplotlib\n",
      "import matplotlib.pyplot as plt\n",
      "%matplotlib inline\n",
      "\n",
      "\n",
      "pysqldf = lambda q: sqldf(q, globals())\n",
      "pp = pprint.PrettyPrinter(indent=4)\n",
      "\n",
      "!ls\n",
      "\n",
      "seasons = pd.read_csv(\"seasons.csv\")\n",
      "teams = pd.read_csv(\"teams.csv\")"
     ],
     "language": "python",
     "metadata": {},
     "outputs": [
      {
       "output_type": "stream",
       "stream": "stdout",
       "text": [
        "Untitled0.ipynb                     seasons.csv                         tourney_detailed_results.csv\r\n",
        "regular_season_compact_results.csv  teams.csv                           tourney_seeds.csv\r\n",
        "regular_season_detailed_results.csv tourney_compact_results.csv         tourney_slots.csv\r\n"
       ]
      }
     ],
     "prompt_number": 61
    },
    {
     "cell_type": "code",
     "collapsed": false,
     "input": [
      "seeds = pd.read_csv(\"tourney_seeds.csv\")\n",
      "print seeds.head()"
     ],
     "language": "python",
     "metadata": {},
     "outputs": [
      {
       "output_type": "stream",
       "stream": "stdout",
       "text": [
        "   season seed  team\n",
        "0    1985  W01  1207\n",
        "1    1985  W02  1210\n",
        "2    1985  W03  1228\n",
        "3    1985  W04  1260\n",
        "4    1985  W05  1374\n"
       ]
      }
     ],
     "prompt_number": 62
    },
    {
     "cell_type": "code",
     "collapsed": false,
     "input": [
      "slots = pd.read_csv(\"tourney_slots.csv\")\n",
      "print slots.head()"
     ],
     "language": "python",
     "metadata": {},
     "outputs": [
      {
       "output_type": "stream",
       "stream": "stdout",
       "text": [
        "   season  slot strongseed weakseed\n",
        "0    1985  R1W1        W01      W16\n",
        "1    1985  R1W2        W02      W15\n",
        "2    1985  R1W3        W03      W14\n",
        "3    1985  R1W4        W04      W13\n",
        "4    1985  R1W5        W05      W12\n"
       ]
      }
     ],
     "prompt_number": 63
    },
    {
     "cell_type": "code",
     "collapsed": false,
     "input": [
      "all_reg_seasons = pd.read_csv(\"regular_season_detailed_results.csv\")\n",
      "\n",
      "reg_seasons = pysqldf(\"SELECT * FROM all_reg_seasons where season>=1994;\")\n",
      "\n",
      "reg_seasons['poss'] = ((reg_seasons['wfga']+reg_seasons['lfga'])\\\n",
      "                       + .475*(reg_seasons['wfta']+reg_seasons['lfta'])\\\n",
      "                       - (reg_seasons['wor']+reg_seasons['lor']) \n",
      "                       + (reg_seasons['wto']+reg_seasons['lto']))\\\n",
      "                       / 2\n",
      "\n",
      "reg_seasons['mins'] = 40 + 5*reg_seasons['numot']\n",
      "reg_seasons['pace'] = reg_seasons['poss']/reg_seasons['mins']\n",
      "reg_seasons['tscore'] = reg_seasons['wscore'] + reg_seasons['lscore']\n",
      "reg_seasons['tppp'] =reg_seasons['tscore']/(2*reg_seasons['poss'])\n",
      "\n",
      "reg_seasons['deltapoints'] = reg_seasons['wscore'] - reg_seasons['lscore']\n",
      "reg_seasons['deltappp'] = (reg_seasons['wscore'] - reg_seasons['lscore'])/reg_seasons['poss']\n",
      "\n",
      "reg_seasons['wppp'] = reg_seasons['wscore']/reg_seasons['poss']\n",
      "reg_seasons['wefgrate'] = (reg_seasons['wfgm']+.5*reg_seasons['wfgm3'])/reg_seasons['wfga']\n",
      "reg_seasons['wtsrate'] = (.5*reg_seasons['wscore'])/(reg_seasons['wfga']+.475*reg_seasons['wfta'])\n",
      "reg_seasons['wastrate'] = reg_seasons['wast']/reg_seasons['wfgm']\n",
      "reg_seasons['wtorate'] = reg_seasons['wto']/reg_seasons['poss']\n",
      "reg_seasons['wstlrate'] = reg_seasons['wstl']/reg_seasons['poss']\n",
      "reg_seasons['wblkrate'] = reg_seasons['wblk']/reg_seasons['lfga']\n",
      "reg_seasons['wsoprate'] = 1 + (reg_seasons['wor']-reg_seasons['wto'])/reg_seasons['poss']\n",
      "reg_seasons['worrate'] = reg_seasons['wor']/(reg_seasons['wor']+reg_seasons['ldr'])\n",
      "reg_seasons['wdrrate'] = reg_seasons['wdr']/(reg_seasons['wdr']+reg_seasons['lor'])\n",
      "reg_seasons['wftrate'] = reg_seasons['wfta']/reg_seasons['wfga']\n",
      "reg_seasons['wftplus'] = reg_seasons['wftm']/reg_seasons['poss']\n",
      "reg_seasons['wfga3rate'] = reg_seasons['wfga3']/reg_seasons['wfga']\n",
      "reg_seasons['wper3fg'] = (reg_seasons['wfgm3']*3)/reg_seasons['wscore']\n",
      "reg_seasons['wperft'] = reg_seasons['wftm']/reg_seasons['wscore']\n",
      "reg_seasons['wper2fg'] = 1-reg_seasons['wper3fg']-reg_seasons['wperft']\n",
      "\n",
      "reg_seasons['lppp'] = reg_seasons['lscore']/reg_seasons['poss']\n",
      "reg_seasons['lefgrate'] = (reg_seasons['lfgm']+.5*reg_seasons['lfgm3'])/reg_seasons['lfga']\n",
      "reg_seasons['ltsrate'] = (.5*reg_seasons['lscore'])/(reg_seasons['lfga']+.475*reg_seasons['lfta'])\n",
      "reg_seasons['lastrate'] = reg_seasons['last']/reg_seasons['lfgm']\n",
      "reg_seasons['ltorate'] = reg_seasons['lto']/reg_seasons['poss']\n",
      "reg_seasons['lstlrate'] = reg_seasons['lstl']/reg_seasons['poss']\n",
      "reg_seasons['lblkrate'] = reg_seasons['lblk']/reg_seasons['wfga']\n",
      "reg_seasons['lsoprate'] = 1 + (reg_seasons['lor']-reg_seasons['lto'])/reg_seasons['poss']\n",
      "reg_seasons['lorrate'] = 1 - reg_seasons['wdrrate']\n",
      "reg_seasons['ldrrate'] = 1 - reg_seasons['worrate']\n",
      "reg_seasons['lftrate'] = reg_seasons['lfta']/reg_seasons['lfga']\n",
      "reg_seasons['lftplus'] = reg_seasons['lftm']/reg_seasons['poss']\n",
      "reg_seasons['lfga3rate'] = reg_seasons['lfga3']/reg_seasons['lfga']\n",
      "reg_seasons['lper3fg'] = (reg_seasons['lfgm3']*3)/reg_seasons['lscore']\n",
      "reg_seasons['lperft'] = reg_seasons['lftm']/reg_seasons['lscore']\n",
      "reg_seasons['lper2fg'] = 1-reg_seasons['lper3fg']-reg_seasons['lperft']"
     ],
     "language": "python",
     "metadata": {},
     "outputs": [],
     "prompt_number": 64
    },
    {
     "cell_type": "code",
     "collapsed": false,
     "input": [
      "# reg_seasons.plot(x='pace', y='tppp',kind='scatter',marker='.')\n",
      "# mod = smf.ols('tppp ~ pace', data=reg_seasons).fit()\n",
      "# mod.summary()"
     ],
     "language": "python",
     "metadata": {},
     "outputs": [],
     "prompt_number": 65
    },
    {
     "cell_type": "code",
     "collapsed": false,
     "input": [
      "# reg_seasons.plot(x='pace', y='lppp',kind='scatter',marker='.')\n",
      "# mod = smf.ols('lppp ~ pace', data=reg_seasons).fit()\n",
      "# mod.summary()"
     ],
     "language": "python",
     "metadata": {},
     "outputs": [],
     "prompt_number": 66
    },
    {
     "cell_type": "code",
     "collapsed": false,
     "input": [
      "# reg_seasons.plot(x='pace', y='wppp',kind='scatter',marker='.')\n",
      "# mod = smf.ols('wppp ~ pace', data=reg_seasons).fit()\n",
      "# mod.summary()"
     ],
     "language": "python",
     "metadata": {},
     "outputs": [],
     "prompt_number": 67
    },
    {
     "cell_type": "code",
     "collapsed": false,
     "input": [
      "for year in range(2003,2015):\n",
      "    for team in range(1463,1473): #(1101,1465)\n",
      "        q_string = \"SELECT * FROM reg_seasons where season = %i and (wteam ='%s' or lteam ='%s');\" % (year, team,team)\n",
      "        print q_string\n",
      "\n",
      "        team_reg_season = pysqldf(q_string)\n",
      "        team_reg_season['team_id'] = team\n",
      "        \n",
      "        if team_reg_season['wteam'] == team:\n",
      "           team_reg_season['oteam'] = team_reg_season['lteam']\n",
      "        else:\n",
      "            team_reg_season['oteam'] = team_reg_season['wteam']\n",
      "        \n",
      "        team_reg_season = pd.merge(team_reg_season,teams,on='team_id',how='left')\n",
      "        team_reg_season['result'] = 0\n",
      "        team_reg_season.loc[team_reg_season.wteam == team, 'result'] = 1\n",
      "        team_reg_season.loc[team_reg_season.result == 0, 'deltapoints'] = -team_reg_season['deltapoints']\n",
      "        team_reg_season.loc[team_reg_season.result == 0, 'deltappp'] = -team_reg_season['deltappp'] \n",
      "\n",
      "        q_string = \"SELECT * FROM team_reg_season\"\n",
      "\n",
      "        #team_reg_season.save(file_path)\n",
      "\n",
      "        team_reg_season\n",
      "        break\n",
      "    break\n"
     ],
     "language": "python",
     "metadata": {},
     "outputs": [
      {
       "output_type": "stream",
       "stream": "stdout",
       "text": [
        "SELECT * FROM reg_seasons where season = 2003 and (wteam ='1463' or lteam ='1463');\n"
       ]
      },
      {
       "ename": "ValueError",
       "evalue": "The truth value of a Series is ambiguous. Use a.empty, a.bool(), a.item(), a.any() or a.all().",
       "output_type": "pyerr",
       "traceback": [
        "\u001b[0;31m---------------------------------------------------------------------------\u001b[0m\n\u001b[0;31mValueError\u001b[0m                                Traceback (most recent call last)",
        "\u001b[0;32m<ipython-input-82-93f2839663af>\u001b[0m in \u001b[0;36m<module>\u001b[0;34m()\u001b[0m\n\u001b[1;32m      7\u001b[0m         \u001b[0mteam_reg_season\u001b[0m\u001b[0;34m[\u001b[0m\u001b[0;34m'team_id'\u001b[0m\u001b[0;34m]\u001b[0m \u001b[0;34m=\u001b[0m \u001b[0mteam\u001b[0m\u001b[0;34m\u001b[0m\u001b[0m\n\u001b[1;32m      8\u001b[0m \u001b[0;34m\u001b[0m\u001b[0m\n\u001b[0;32m----> 9\u001b[0;31m         \u001b[0;32mif\u001b[0m \u001b[0mteam_reg_season\u001b[0m\u001b[0;34m[\u001b[0m\u001b[0;34m'wteam'\u001b[0m\u001b[0;34m]\u001b[0m \u001b[0;34m==\u001b[0m \u001b[0mteam\u001b[0m\u001b[0;34m:\u001b[0m\u001b[0;34m\u001b[0m\u001b[0m\n\u001b[0m\u001b[1;32m     10\u001b[0m            \u001b[0mteam_reg_season\u001b[0m\u001b[0;34m[\u001b[0m\u001b[0;34m'oteam'\u001b[0m\u001b[0;34m]\u001b[0m \u001b[0;34m=\u001b[0m \u001b[0mteam_reg_season\u001b[0m\u001b[0;34m[\u001b[0m\u001b[0;34m'lteam'\u001b[0m\u001b[0;34m]\u001b[0m\u001b[0;34m\u001b[0m\u001b[0m\n\u001b[1;32m     11\u001b[0m         \u001b[0;32melse\u001b[0m\u001b[0;34m:\u001b[0m\u001b[0;34m\u001b[0m\u001b[0m\n",
        "\u001b[0;32m/usr/local/lib/python2.7/site-packages/pandas/core/generic.pyc\u001b[0m in \u001b[0;36m__nonzero__\u001b[0;34m(self)\u001b[0m\n\u001b[1;32m    696\u001b[0m         raise ValueError(\"The truth value of a {0} is ambiguous. \"\n\u001b[1;32m    697\u001b[0m                          \u001b[0;34m\"Use a.empty, a.bool(), a.item(), a.any() or a.all().\"\u001b[0m\u001b[0;34m\u001b[0m\u001b[0m\n\u001b[0;32m--> 698\u001b[0;31m                          .format(self.__class__.__name__))\n\u001b[0m\u001b[1;32m    699\u001b[0m \u001b[0;34m\u001b[0m\u001b[0m\n\u001b[1;32m    700\u001b[0m     \u001b[0m__bool__\u001b[0m \u001b[0;34m=\u001b[0m \u001b[0m__nonzero__\u001b[0m\u001b[0;34m\u001b[0m\u001b[0m\n",
        "\u001b[0;31mValueError\u001b[0m: The truth value of a Series is ambiguous. Use a.empty, a.bool(), a.item(), a.any() or a.all()."
       ]
      }
     ],
     "prompt_number": 82
    },
    {
     "cell_type": "code",
     "collapsed": false,
     "input": [],
     "language": "python",
     "metadata": {},
     "outputs": []
    }
   ],
   "metadata": {}
  }
 ]
}